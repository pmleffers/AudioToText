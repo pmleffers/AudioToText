{
 "cells": [
  {
   "cell_type": "markdown",
   "metadata": {},
   "source": [
    "<img src='letthembreathespace.jpg' width=\"480\" height=\"370\" align=\"left\">"
   ]
  },
  {
   "cell_type": "code",
   "execution_count": 8,
   "metadata": {},
   "outputs": [],
   "source": [
    "import numpy as np\n",
    "import os\n",
    "import sys\n",
    "import warnings\n",
    "\n",
    "warnings.filterwarnings(\"ignore\")\n",
    "import scipy.io.wavfile as wav\n",
    "import speech_recognition as sr"
   ]
  },
  {
   "cell_type": "markdown",
   "metadata": {},
   "source": [
    "Create Directories"
   ]
  },
  {
   "cell_type": "code",
   "execution_count": 9,
   "metadata": {},
   "outputs": [],
   "source": [
    "AudiodirName='./SoundFiles'\n",
    "DirList=[AudiodirName]"
   ]
  },
  {
   "cell_type": "code",
   "execution_count": 10,
   "metadata": {},
   "outputs": [
    {
     "name": "stdout",
     "output_type": "stream",
     "text": [
      "Directory  ./SoundFiles  already exists\n"
     ]
    }
   ],
   "source": [
    "for i in DirList:\n",
    "    try:\n",
    "        # Create target Directory\n",
    "        os.mkdir(i)\n",
    "        print(\"Directory \" ,i,  \" Created \") \n",
    "    except:\n",
    "        print(\"Directory \" ,i,  \" already exists\")\n",
    "\n",
    "#os.chdir(AudiodirName)\n",
    "#print('Moved to directory',os.getcwd())"
   ]
  },
  {
   "cell_type": "markdown",
   "metadata": {},
   "source": [
    "Download Audio Book and Extract it to Audio Folder"
   ]
  },
  {
   "cell_type": "markdown",
   "metadata": {},
   "source": [
    "https://ia802905.us.archive.org/5/items/letembreathespaceversion2_1809_librivox/letembreathspace_01_delrey_128kb.mp3"
   ]
  },
  {
   "cell_type": "code",
   "execution_count": 11,
   "metadata": {},
   "outputs": [],
   "source": [
    "#!wget http://www.archive.org/download//letembreathespaceversion2_1809_librivox/letembreathespaceversion2_1809_librivox_64kb_mp3.zip"
   ]
  },
  {
   "cell_type": "code",
   "execution_count": 12,
   "metadata": {},
   "outputs": [
    {
     "name": "stdout",
     "output_type": "stream",
     "text": [
      "letembreathspace_03_delrey_64kb.mp3\n",
      "Saved in location:\t ./SoundFiles\n",
      "letembreathspace_01_delrey_64kb.mp3\n",
      "Saved in location:\t ./SoundFiles\n",
      "letembreathspace_04_delrey_64kb.mp3\n",
      "Saved in location:\t ./SoundFiles\n",
      "letembreathspace_02_delrey_64kb.mp3\n",
      "Saved in location:\t ./SoundFiles\n",
      "letembreathspace_05_delrey_64kb.mp3\n",
      "Saved in location:\t ./SoundFiles\n"
     ]
    }
   ],
   "source": [
    "import zipfile\n",
    "Save_Location=AudiodirName\n",
    "Zip_Location='./letembreathespaceversion2_1809_librivox_64kb_mp3.zip'\n",
    "#Extracting Zip File\n",
    "zip_ref = zipfile.ZipFile(Zip_Location, 'r')\n",
    "\n",
    "\n",
    "#Preview files within zip\n",
    "for name in zip_ref.namelist():\n",
    "    print('%s' % (name))\n",
    "    print('Saved in location:\\t',Save_Location)\n",
    "    \n",
    "zip_ref.extractall(Save_Location)\n",
    "zip_ref.close()"
   ]
  },
  {
   "cell_type": "code",
   "execution_count": 13,
   "metadata": {},
   "outputs": [],
   "source": [
    "from pydub import AudioSegment\n",
    "sound = AudioSegment.from_mp3(AudiodirName+\"/letembreathspace_03_delrey_64kb.mp3\")\n",
    "#sound.export(AudiodirName+\"/letembreathspace_03_delrey_64kb.wav\", format=\"wav\")"
   ]
  },
  {
   "cell_type": "code",
   "execution_count": 14,
   "metadata": {},
   "outputs": [
    {
     "name": "stdout",
     "output_type": "stream",
     "text": [
      "Length in milliseconds of the first sample of the sound file:  32672.34\n"
     ]
    },
    {
     "data": {
      "text/plain": [
       "<_io.BufferedRandom name='./SoundFiles/letembreathspace_03_delrey_64kb.wav'>"
      ]
     },
     "execution_count": 14,
     "metadata": {},
     "output_type": "execute_result"
    }
   ],
   "source": [
    "Percent = len(sound)*.020\n",
    "print('Length in milliseconds of the first sample of the sound file: ',Percent)\n",
    "FirstPercent = sound[:Percent]\n",
    "\n",
    "# create a new file\n",
    "FirstPercent.export(AudiodirName+\"/letembreathspace_03_delrey_64kb.wav\", format=\"wav\")"
   ]
  },
  {
   "cell_type": "code",
   "execution_count": 15,
   "metadata": {},
   "outputs": [
    {
     "name": "stdout",
     "output_type": "stream",
     "text": [
      "The audio file contains: Chapter 3 of lombriz space by Lester Del Rey this LibriVox recording is in the public domain chapter 3 it was chromosome again Mueller had kept most of the gang from coming back to Hydroponics but he Jenny Pietro Wilcox and myself or enough to fill the room with a smell of sick fear now less than half of the original space was filled\n"
     ]
    }
   ],
   "source": [
    "AUDIO_FILE = (AudiodirName+\"/letembreathspace_03_delrey_64kb.wav\") \n",
    "\n",
    "# use the audio file as the audio source \n",
    "\n",
    "r = sr.Recognizer() \n",
    "\n",
    "with sr.AudioFile(AUDIO_FILE) as source:  \n",
    "    audio = r.record(source) \n",
    "    \n",
    "    try: \n",
    "        print(\"The audio file contains: \" + r.recognize_google(audio)) \n",
    "\n",
    "    except sr.UnknownValueError: \n",
    "        print(\"Google Speech Recognition could not understand audio\") \n",
    "\n",
    "    except sr.RequestError as e: \n",
    "        print(\"Could not request results from Google Speech Recognition service; {0}\".format(e)) \n"
   ]
  },
  {
   "cell_type": "markdown",
   "metadata": {},
   "source": [
    "__________________________________"
   ]
  },
  {
   "cell_type": "code",
   "execution_count": null,
   "metadata": {},
   "outputs": [],
   "source": []
  },
  {
   "cell_type": "code",
   "execution_count": null,
   "metadata": {},
   "outputs": [],
   "source": []
  },
  {
   "cell_type": "code",
   "execution_count": null,
   "metadata": {},
   "outputs": [],
   "source": []
  },
  {
   "cell_type": "code",
   "execution_count": null,
   "metadata": {},
   "outputs": [],
   "source": []
  },
  {
   "cell_type": "code",
   "execution_count": null,
   "metadata": {},
   "outputs": [],
   "source": []
  },
  {
   "cell_type": "code",
   "execution_count": null,
   "metadata": {},
   "outputs": [],
   "source": []
  },
  {
   "cell_type": "code",
   "execution_count": null,
   "metadata": {},
   "outputs": [],
   "source": []
  }
 ],
 "metadata": {
  "kernelspec": {
   "display_name": "Python 3",
   "language": "python",
   "name": "python3"
  },
  "language_info": {
   "codemirror_mode": {
    "name": "ipython",
    "version": 3
   },
   "file_extension": ".py",
   "mimetype": "text/x-python",
   "name": "python",
   "nbconvert_exporter": "python",
   "pygments_lexer": "ipython3",
   "version": "3.6.5"
  }
 },
 "nbformat": 4,
 "nbformat_minor": 2
}
