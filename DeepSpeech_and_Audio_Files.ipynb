{
 "cells": [
  {
   "cell_type": "markdown",
   "metadata": {},
   "source": [
    "<img src='letthembreathespace.jpg' width=\"480\" height=\"370\" align=\"left\">"
   ]
  },
  {
   "cell_type": "code",
   "execution_count": 66,
   "metadata": {},
   "outputs": [],
   "source": [
    "#! pip install numpy matplotlib scipy sklearn hmmlearn simplejson eyed3 pydub --user\n",
    "#!pip install pydub --user\n",
    "#!pip install ffmpeg --user\n",
    "#!pip install deepspeech==0.2.0a8 --user\n",
    "#!pip install sox  --user\n",
    "\n",
    "#import speech_recognition as sr"
   ]
  },
  {
   "cell_type": "code",
   "execution_count": 67,
   "metadata": {},
   "outputs": [],
   "source": [
    "import numpy as np\n",
    "import os\n",
    "import subprocess\n",
    "import sys"
   ]
  },
  {
   "cell_type": "code",
   "execution_count": 68,
   "metadata": {},
   "outputs": [],
   "source": [
    "import warnings\n",
    "warnings.filterwarnings(\"ignore\")\n",
    "import scipy.io.wavfile as wav"
   ]
  },
  {
   "cell_type": "code",
   "execution_count": 69,
   "metadata": {},
   "outputs": [],
   "source": [
    "from deepspeech.model import Model"
   ]
  },
  {
   "cell_type": "code",
   "execution_count": 70,
   "metadata": {},
   "outputs": [],
   "source": [
    "import ffmpeg\n",
    "from pydub import AudioSegment\n",
    "from pydub.playback import play"
   ]
  },
  {
   "cell_type": "markdown",
   "metadata": {},
   "source": [
    "Create Directories"
   ]
  },
  {
   "cell_type": "code",
   "execution_count": 71,
   "metadata": {},
   "outputs": [],
   "source": [
    "AudiodirName = './SoundFiles'\n",
    "ModeldirName = './models'\n",
    "\n",
    "DirList=[AudiodirName,ModeldirName]"
   ]
  },
  {
   "cell_type": "code",
   "execution_count": 72,
   "metadata": {},
   "outputs": [
    {
     "name": "stdout",
     "output_type": "stream",
     "text": [
      "Directory  ./SoundFiles  already exists\n",
      "Directory  ./models  already exists\n"
     ]
    }
   ],
   "source": [
    "for i in DirList:\n",
    "    try:\n",
    "        # Create target Directory\n",
    "        os.mkdir(i)\n",
    "        print(\"Directory \" ,i,  \" Created \") \n",
    "    except:\n",
    "        print(\"Directory \" ,i,  \" already exists\")\n",
    "\n",
    "#os.chdir(AudiodirName)\n",
    "#print('Moved to directory',os.getcwd())"
   ]
  },
  {
   "cell_type": "markdown",
   "metadata": {},
   "source": [
    "Download Audio Book and Extract it to Audio Folder"
   ]
  },
  {
   "cell_type": "markdown",
   "metadata": {},
   "source": [
    "https://ia802905.us.archive.org/5/items/letembreathespaceversion2_1809_librivox/letembreathspace_01_delrey_128kb.mp3"
   ]
  },
  {
   "cell_type": "code",
   "execution_count": 73,
   "metadata": {},
   "outputs": [],
   "source": [
    "#!wget http://www.archive.org/download//letembreathespaceversion2_1809_librivox/letembreathespaceversion2_1809_librivox_64kb_mp3.zip"
   ]
  },
  {
   "cell_type": "code",
   "execution_count": 74,
   "metadata": {},
   "outputs": [
    {
     "name": "stdout",
     "output_type": "stream",
     "text": [
      "letembreathspace_03_delrey_64kb.mp3\n",
      "Saved in location:\t ./SoundFiles\n",
      "letembreathspace_01_delrey_64kb.mp3\n",
      "Saved in location:\t ./SoundFiles\n",
      "letembreathspace_04_delrey_64kb.mp3\n",
      "Saved in location:\t ./SoundFiles\n",
      "letembreathspace_02_delrey_64kb.mp3\n",
      "Saved in location:\t ./SoundFiles\n",
      "letembreathspace_05_delrey_64kb.mp3\n",
      "Saved in location:\t ./SoundFiles\n"
     ]
    }
   ],
   "source": [
    "import zipfile\n",
    "Save_Location=AudiodirName\n",
    "Zip_Location='./letembreathespaceversion2_1809_librivox_64kb_mp3.zip'\n",
    "#Extracting Zip File\n",
    "zip_ref = zipfile.ZipFile(Zip_Location, 'r')\n",
    "\n",
    "\n",
    "#Preview files within zip\n",
    "for name in zip_ref.namelist():\n",
    "    print('%s' % (name))\n",
    "    print('Saved in location:\\t',Save_Location)\n",
    "    \n",
    "zip_ref.extractall(Save_Location)\n",
    "zip_ref.close()"
   ]
  },
  {
   "cell_type": "markdown",
   "metadata": {},
   "source": [
    "Split Audio File based on Decibal Level and Silence Time (miliseconds)\n",
    "\n",
    "*We are trying to achieve less than a minute in Audio Length for each file. This is because DeepSpeech has a difficult time parsing text to audio files larger than what it was trained on. For simplicity each seperation is restricted to less than a minute.*"
   ]
  },
  {
   "cell_type": "code",
   "execution_count": 75,
   "metadata": {},
   "outputs": [],
   "source": [
    "from pydub import AudioSegment\n",
    "from pydub.silence import split_on_silence\n",
    "\n",
    "sound = AudioSegment.from_file(AudiodirName+\"/letembreathspace_01_delrey_64kb.mp3\", format=\"mp3\")\n",
    "sound = sound.set_frame_rate(16000).set_channels(1)\n",
    "chunks = split_on_silence(\n",
    "    sound,\n",
    "    # split on silences longer than 1000ms (1 sec)\n",
    "    min_silence_len=1000,\n",
    "\n",
    "    # anything under -16 dBFS is considered silence\n",
    "    silence_thresh=-64, \n",
    "\n",
    "    # keep 200 ms of leading/trailing silence\n",
    "    keep_silence=200\n",
    ")\n",
    "\n",
    "# now recombine the chunks so that the parts are at least 90 sec long\n",
    "target_length = 90 * 1000\n",
    "output_chunks = [chunks[0]]\n",
    "for chunk in chunks[1:]:\n",
    "    if len(output_chunks[-1]) < target_length:\n",
    "        output_chunks[-1] += chunk\n",
    "    else:\n",
    "        # if the last output chunk is longer than the target length,\n",
    "        # we can start a new one\n",
    "        output_chunks.append(chunk)"
   ]
  },
  {
   "cell_type": "code",
   "execution_count": 76,
   "metadata": {},
   "outputs": [],
   "source": [
    "FileList=[]\n",
    "for i, chunk in enumerate(chunks):\n",
    "    #print(i)\n",
    "    #print(chunk)\n",
    "    chunk.export(AudiodirName+\"/chunk{0}_16bit.wav\".format(i), format=\"wav\", bitrate=\"16k\")\n",
    "    FileList.append(AudiodirName+\"/chunk{0}_16bit.wav\".format(i))"
   ]
  },
  {
   "cell_type": "code",
   "execution_count": 77,
   "metadata": {},
   "outputs": [
    {
     "data": {
      "text/plain": [
       "[<pydub.audio_segment.AudioSegment at 0x7ffb2092eba8>,\n",
       " <pydub.audio_segment.AudioSegment at 0x7ffb2092ef28>,\n",
       " <pydub.audio_segment.AudioSegment at 0x7ffb2092e908>]"
      ]
     },
     "execution_count": 77,
     "metadata": {},
     "output_type": "execute_result"
    }
   ],
   "source": [
    "chunks[:3]"
   ]
  },
  {
   "cell_type": "code",
   "execution_count": 78,
   "metadata": {},
   "outputs": [],
   "source": [
    "Test_List=FileList[:15]"
   ]
  },
  {
   "cell_type": "markdown",
   "metadata": {},
   "source": [
    "Sampling only 15 of the audio files that were split for testing purposes"
   ]
  },
  {
   "cell_type": "markdown",
   "metadata": {},
   "source": [
    "List of audio files to be translated into text"
   ]
  },
  {
   "cell_type": "code",
   "execution_count": 79,
   "metadata": {},
   "outputs": [
    {
     "data": {
      "text/plain": [
       "['./SoundFiles/chunk0_16bit.wav',\n",
       " './SoundFiles/chunk1_16bit.wav',\n",
       " './SoundFiles/chunk2_16bit.wav',\n",
       " './SoundFiles/chunk3_16bit.wav',\n",
       " './SoundFiles/chunk4_16bit.wav',\n",
       " './SoundFiles/chunk5_16bit.wav',\n",
       " './SoundFiles/chunk6_16bit.wav',\n",
       " './SoundFiles/chunk7_16bit.wav',\n",
       " './SoundFiles/chunk8_16bit.wav',\n",
       " './SoundFiles/chunk9_16bit.wav',\n",
       " './SoundFiles/chunk10_16bit.wav',\n",
       " './SoundFiles/chunk11_16bit.wav',\n",
       " './SoundFiles/chunk12_16bit.wav',\n",
       " './SoundFiles/chunk13_16bit.wav',\n",
       " './SoundFiles/chunk14_16bit.wav']"
      ]
     },
     "execution_count": 79,
     "metadata": {},
     "output_type": "execute_result"
    }
   ],
   "source": [
    "Test_List"
   ]
  },
  {
   "cell_type": "code",
   "execution_count": 80,
   "metadata": {},
   "outputs": [
    {
     "name": "stdout",
     "output_type": "stream",
     "text": [
      "file:  ./SoundFiles/chunk0_16bit.wav\n",
      " \n",
      "\n",
      "DeepSpeech says, \"...chaper one of lot om breethe space this is a lebrivox recording all leberhoxks recordings are in the public domain or more information nor e volunteer please visit lebri vox don orp recording by fill shon aber in the byus of louisziana...\"\n",
      "\n",
      "file:  ./SoundFiles/chunk1_16bit.wav\n",
      " \n",
      "\n",
      "DeepSpeech says, \"...the story was first published in space science fiction july nineteen fifty three let om breathe space my lustredelray checker one...\"\n",
      "\n",
      "file:  ./SoundFiles/chunk2_16bit.wav\n",
      " \n",
      "\n",
      "DeepSpeech says, \"...eighteen men hand two women in the clohes whirl of a spaceshop for five months can only spell tention and trouble but in this case the atmosphere was literally poisoned...\"\n",
      "\n",
      "file:  ./SoundFiles/chunk3_16bit.wav\n",
      " \n",
      "\n",
      "DeepSpeech says, \"...five months out fhom earth we were half way to setron and three quarters of the way to murder at least i was i was sick of the futing the worries of the pettiness of the other nineteen a board my stummarh heved at tha band food the eternal smell of people and the costand sound of nagging ind complaints...\"\n",
      "\n",
      "file:  ./SoundFiles/chunk4_16bit.wav\n",
      " \n",
      "\n",
      "DeepSpeech says, \"...for tin led pennyes i'd have gotten outifto space and tried walking back to earth sometimes i thought of doing it without the pennies but i knew i wasn't that tough in spite of what i looked...\"\n",
      "\n",
      "file:  ./SoundFiles/chunk5_16bit.wav\n",
      " \n",
      "\n",
      "DeepSpeech says, \"...i'd been built to play full back and my cuestionable brunate beauty had been roughed up by the explosion years before as thoroughly as stock fighting on all the planets could have done...\"\n",
      "\n",
      "file:  ./SoundFiles/chunk6_16bit.wav\n",
      " \n",
      "\n",
      "DeepSpeech says, \"...but sometimes i figure all that mipt wist that there was more of me to hurt and that id had more experience screaming winh the anadi ran out...\"\n",
      "\n",
      "file:  ./SoundFiles/chunk7_16bit.wav\n",
      " \n",
      "\n",
      "DeepSpeech says, \"...anyhow whole we pancates made with sour do for the night morning running was too damed much i felt my stummach heave over again took one whif of the imitation mapl serup and shove the mess back fast while i got up faster...\"\n",
      "\n",
      "file:  ./SoundFiles/chunk8_16bit.wav\n",
      " \n",
      "\n",
      "DeepSpeech says, \"...it was a mistake fill rigs our scrawny half paint medeorologist grined nasily and reach for the plate thes matter paule don't you like your breakfastits it's good for you wol week contains bran the staff of life man after that died of bleaked paste...\"\n",
      "\n",
      "file:  ./SoundFiles/chunk9_16bit.wav\n",
      " \n",
      "\n",
      "DeepSpeech says, \"...there's one guy like that in every bunch the cook was maded us for griping about his couffing so our group of scientists on this cuckedes saturin expedition were getting  whole weat flower as punishment while captain mulur probably sat in his cabin chuckling about it...\"\n",
      "\n",
      "file:  ./SoundFiles/chunk10_16bit.wav\n",
      " \n",
      "\n",
      "DeepSpeech says, \"...in our agreement there was a claws that we could go over mulers han on such things with a unanimous patition but rigs had spite that the idiot liht brand in his flower even for pancakes or else he was putting on a goodact of the fun of larching a rest of a suffer...\"\n",
      "\n",
      "file:  ./SoundFiles/chunk11_16bit.wav\n",
      " \n",
      "\n",
      "DeepSpeech says, \"...you can take your damed hol wead and stuffit i startet thee nic hrugd andropptdet there were on a fewtes going on aboayd the crailld wale...\"\n",
      "\n",
      "file:  ./SoundFiles/chunk12_16bit.wav\n",
      " \n",
      "\n",
      "DeepSpeech says, \"...seeing jeny this morning vill...\"\n",
      "\n",
      "file:  ./SoundFiles/chunk13_16bit.wav\n",
      " \n",
      "\n",
      "DeepSpeech says, \"...he studied me insolently...\"\n",
      "\n",
      "file:  ./SoundFiles/chunk14_16bit.wav\n",
      " \n",
      "\n",
      "DeepSpeech says, \"...she told dork naper she had some stuff growing in hardreponec she wanted to look at you're wast ing your time on that babe bo...\"\n",
      "\n"
     ]
    }
   ],
   "source": [
    "TextOut={}\n",
    "for i in range(0,len(Test_List)): \n",
    "    # Get Audio Filename\n",
    "    files = Test_List[i]    \n",
    "    print('file: ',files)\n",
    "    print(' ')\n",
    "    file_path,file_name = os.path.split(files)\n",
    "    \n",
    "                #model location                   alphabet file\n",
    "    ds = Model(ModeldirName+'/output_graph.pb', 26, 9, ModeldirName+'/alphabet.txt', 500)\n",
    "    fs, audio = wav.read(files)\n",
    "    processed_data=ds.stt(audio,fs)\n",
    "    processed_data=ds.stt(audio.flatten(),fs)\n",
    "    TextOut[file_name]=processed_data\n",
    "    \n",
    "    try:\n",
    "        print('\\nDeepSpeech says, \"...'+str(processed_data)+'...\"\\n')\n",
    "    except:\n",
    "        print(\"print statement didn't work\")\n",
    "\n"
   ]
  },
  {
   "cell_type": "code",
   "execution_count": 81,
   "metadata": {},
   "outputs": [],
   "source": [
    "concaText=''\n",
    "for i in TextOut.values():\n",
    "    concaText=concaText+i"
   ]
  },
  {
   "cell_type": "code",
   "execution_count": 82,
   "metadata": {},
   "outputs": [
    {
     "data": {
      "text/plain": [
       "\"chaper one of lot om breethe space this is a lebrivox recording all leberhoxks recordings are in the public domain or more information nor e volunteer please visit lebri vox don orp recording by fill shon aber in the byus of louiszianathe story was first published in space science fiction july nineteen fifty three let om breathe space my lustredelray checker oneeighteen men hand two women in the clohes whirl of a spaceshop for five months can only spell tention and trouble but in this case the atmosphere was literally poisonedfive months out fhom earth we were half way to setron and three quarters of the way to murder at least i was i was sick of the futing the worries of the pettiness of the other nineteen a board my stummarh heved at tha band food the eternal smell of people and the costand sound of nagging ind complaintsfor tin led pennyes i'd have gotten outifto space and tried walking back to earth sometimes i thought of doing it without the pennies but i knew i wasn't that tough in spite of what i lookedi'd been built to play full back and my cuestionable brunate beauty had been roughed up by the explosion years before as thoroughly as stock fighting on all the planets could have donebut sometimes i figure all that mipt wist that there was more of me to hurt and that id had more experience screaming winh the anadi ran outanyhow whole we pancates made with sour do for the night morning running was too damed much i felt my stummach heave over again took one whif of the imitation mapl serup and shove the mess back fast while i got up fasterit was a mistake fill rigs our scrawny half paint medeorologist grined nasily and reach for the plate thes matter paule don't you like your breakfastits it's good for you wol week contains bran the staff of life man after that died of bleaked pastethere's one guy like that in every bunch the cook was maded us for griping about his couffing so our group of scientists on this cuckedes saturin expedition were getting  whole weat flower as punishment while captain mulur probably sat in his cabin chuckling about itin our agreement there was a claws that we could go over mulers han on such things with a unanimous patition but rigs had spite that the idiot liht brand in his flower even for pancakes or else he was putting on a goodact of the fun of larching a rest of a sufferyou can take your damed hol wead and stuffit i startet thee nic hrugd andropptdet there were on a fewtes going on aboayd the crailld waleseeing jeny this morning villhe studied me insolentlyshe told dork naper she had some stuff growing in hardreponec she wanted to look at you're wast ing your time on that babe bo\""
      ]
     },
     "execution_count": 82,
     "metadata": {},
     "output_type": "execute_result"
    }
   ],
   "source": [
    "concaText"
   ]
  },
  {
   "cell_type": "markdown",
   "metadata": {},
   "source": [
    "__________________________________"
   ]
  },
  {
   "cell_type": "markdown",
   "metadata": {},
   "source": [
    "Probabilistic Spelling Correction\n",
    "------------------------"
   ]
  },
  {
   "cell_type": "code",
   "execution_count": 83,
   "metadata": {},
   "outputs": [],
   "source": [
    "import re\n",
    "from collections import Counter"
   ]
  },
  {
   "cell_type": "code",
   "execution_count": 84,
   "metadata": {},
   "outputs": [],
   "source": [
    "def words(text): return re.findall(r'\\w+', text.lower())\n",
    "\n",
    "WORDS = Counter(words(concaText))\n",
    "\n",
    "def P(word, N=sum(WORDS.values())): \n",
    "    \"Probability of `word`.\"\n",
    "    return WORDS[word] / N\n",
    "\n",
    "def correction(word): \n",
    "    \"Most probable spelling correction for word.\"\n",
    "    return max(candidates(word), key=P)\n",
    "\n",
    "def candidates(word): \n",
    "    \"Generate possible spelling corrections for word.\"\n",
    "    return (known([word]) or known(edits1(word)) or known(edits2(word)) or [word])\n",
    "\n",
    "def known(words): \n",
    "    \"The subset of `words` that appear in the dictionary of WORDS.\"\n",
    "    return set(w for w in words if w in WORDS)\n",
    "\n",
    "def edits1(word):\n",
    "    \"All edits that are one edit away from `word`.\"\n",
    "    letters    = 'abcdefghijklmnopqrstuvwxyz'\n",
    "    splits     = [(word[:i], word[i:])    for i in range(len(word) + 1)]\n",
    "    deletes    = [L + R[1:]               for L, R in splits if R]\n",
    "    transposes = [L + R[1] + R[0] + R[2:] for L, R in splits if len(R)>1]\n",
    "    replaces   = [L + c + R[1:]           for L, R in splits if R for c in letters]\n",
    "    inserts    = [L + c + R               for L, R in splits for c in letters]\n",
    "    return set(deletes + transposes + replaces + inserts)\n",
    "\n",
    "def edits2(word): \n",
    "    \"All edits that are two edits away from `word`.\"\n",
    "    return (e2 for e1 in edits1(word) for e2 in edits1(e1))"
   ]
  },
  {
   "cell_type": "code",
   "execution_count": 86,
   "metadata": {},
   "outputs": [],
   "source": [
    "#WORDS"
   ]
  },
  {
   "cell_type": "code",
   "execution_count": null,
   "metadata": {},
   "outputs": [],
   "source": []
  },
  {
   "cell_type": "code",
   "execution_count": null,
   "metadata": {},
   "outputs": [],
   "source": []
  },
  {
   "cell_type": "code",
   "execution_count": null,
   "metadata": {},
   "outputs": [],
   "source": []
  },
  {
   "cell_type": "code",
   "execution_count": null,
   "metadata": {},
   "outputs": [],
   "source": []
  }
 ],
 "metadata": {
  "kernelspec": {
   "display_name": "Python 3",
   "language": "python",
   "name": "python3"
  }
 },
 "nbformat": 4,
 "nbformat_minor": 2
}
